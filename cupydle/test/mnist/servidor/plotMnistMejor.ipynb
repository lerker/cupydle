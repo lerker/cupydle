{
 "cells": [
  {
   "cell_type": "code",
   "execution_count": 1,
   "metadata": {
    "collapsed": true
   },
   "outputs": [],
   "source": [
    "import numpy as np"
   ]
  },
  {
   "cell_type": "code",
   "execution_count": 2,
   "metadata": {
    "collapsed": true
   },
   "outputs": [],
   "source": [
    "datos=np.load('datos_guardados.npz')"
   ]
  },
  {
   "cell_type": "code",
   "execution_count": 3,
   "metadata": {
    "collapsed": true
   },
   "outputs": [],
   "source": [
    "%matplotlib inline\n",
    "import matplotlib.pyplot as plt\n"
   ]
  },
  {
   "cell_type": "code",
   "execution_count": 4,
   "metadata": {
    "collapsed": false
   },
   "outputs": [
    {
     "data": {
      "image/png": "[encoded data removed]",
      "text/plain": [
       "<matplotlib.figure.Figure at 0x7fb2f382bf60>"
      ]
     },
     "metadata": {},
     "output_type": "display_data"
    }
   ],
   "source": [
    "#plt.plot(datos['costoTRN'], label='costo TRN')\n",
    "#plt.ylabel('Costo Entrenamiento')\n",
    "\n",
    "#plt.plot(datos['costoVAL'], label='costo VAL')\n",
    "#plt.ylabel('Costo Validacion')\n",
    "\n",
    "plt.plot(datos['costoTST'], label='costo TST')\n",
    "plt.ylabel('Costo Test')\n",
    "\n",
    "plt.xlabel('Epocas')\n",
    "#plt.legend()\n",
    "#plt.savefig('costoTRN_MejorMnist.pdf', bbox_inches='tight' ,transparent=True)\n",
    "#plt.savefig('costoVAL_MejorMnist.pdf', bbox_inches='tight' ,transparent=True)\n",
    "plt.savefig('costoTST_MejorMnist.pdf', bbox_inches='tight' ,transparent=True)\n",
    "plt.show()"
   ]
  },
  {
   "cell_type": "code",
   "execution_count": null,
   "metadata": {
    "collapsed": true
   },
   "outputs": [],
   "source": [
    "\n"
   ]
  }
 ],
 "metadata": {
  "kernelspec": {
   "display_name": "Python 3",
   "language": "python",
   "name": "python3"
  },
  "language_info": {
   "codemirror_mode": {
    "name": "ipython",
    "version": 3
   },
   "file_extension": ".py",
   "mimetype": "text/x-python",
   "name": "python",
   "nbconvert_exporter": "python",
   "pygments_lexer": "ipython3",
   "version": "3.5.2"
  }
 },
 "nbformat": 4,
 "nbformat_minor": 0
}
